{
 "cells": [
  {
   "cell_type": "markdown",
   "metadata": {},
   "source": [
    "# 1.BUSINESS UNDERSTANDING\n",
    "    A. INTRODUCTION\n",
    "In today's digital era, the world of cinema has witnessed a transformative shift. Streaming platforms have unlocked a vast library of movies, granting users unprecedented access to a multitude of entertainment options. However, amidst this abundance, users often find themselves overwhelmed, struggling to identify movies that resonate with their individual tastes. In response to this challenge, I introduce an innovative movie recommendation system, poised to revolutionize the way users discover and enjoy films."
   ]
  },
  {
   "cell_type": "markdown",
   "metadata": {},
   "source": [
    "    B.PROBLEM STATEMENT\n",
    "The proliferation of online streaming platforms has created an ocean of cinematic choices, leaving users adrift in the quest for their next movie night selection. Navigating this vast sea of options can be daunting and time-consuming, often resulting in decision fatigue and missed opportunities to explore content aligned with one's preferences. My project seeks to address this issue by crafting a sophisticated movie recommendation system capable of leveraging user data and machine learning to deliver personalized movie suggestions. It aims to tackle the challenge of guiding users toward enjoyable movie choices, even for those who are new to the platform or movies with limited ratings."
   ]
  },
  {
   "cell_type": "markdown",
   "metadata": {},
   "source": [
    "    C.MAIN OBJECTIVE\n",
    "To create a movie recommendation system that suggests the top 5 movies to users based on their ratings of other movies."
   ]
  },
  {
   "cell_type": "markdown",
   "metadata": {},
   "source": [
    "    D.SPECIFIC OBJECTIVES"
   ]
  },
  {
   "cell_type": "markdown",
   "metadata": {},
   "source": [
    "# 2.IMPORTING LIBRARIES"
   ]
  },
  {
   "cell_type": "code",
   "execution_count": 212,
   "metadata": {},
   "outputs": [],
   "source": [
    "import matplotlib.pyplot as plt\n",
    "import numpy as np\n",
    "import pandas as pd\n",
    "import seaborn as sns"
   ]
  },
  {
   "cell_type": "markdown",
   "metadata": {},
   "source": [
    "# 3.LOADING THE DATA"
   ]
  },
  {
   "cell_type": "code",
   "execution_count": 213,
   "metadata": {},
   "outputs": [
    {
     "data": {
      "text/html": [
       "<div>\n",
       "<style scoped>\n",
       "    .dataframe tbody tr th:only-of-type {\n",
       "        vertical-align: middle;\n",
       "    }\n",
       "\n",
       "    .dataframe tbody tr th {\n",
       "        vertical-align: top;\n",
       "    }\n",
       "\n",
       "    .dataframe thead th {\n",
       "        text-align: right;\n",
       "    }\n",
       "</style>\n",
       "<table border=\"1\" class=\"dataframe\">\n",
       "  <thead>\n",
       "    <tr style=\"text-align: right;\">\n",
       "      <th></th>\n",
       "      <th>movieId</th>\n",
       "      <th>title</th>\n",
       "      <th>genres</th>\n",
       "    </tr>\n",
       "  </thead>\n",
       "  <tbody>\n",
       "    <tr>\n",
       "      <th>0</th>\n",
       "      <td>1</td>\n",
       "      <td>Toy Story (1995)</td>\n",
       "      <td>Adventure|Animation|Children|Comedy|Fantasy</td>\n",
       "    </tr>\n",
       "    <tr>\n",
       "      <th>1</th>\n",
       "      <td>2</td>\n",
       "      <td>Jumanji (1995)</td>\n",
       "      <td>Adventure|Children|Fantasy</td>\n",
       "    </tr>\n",
       "    <tr>\n",
       "      <th>2</th>\n",
       "      <td>3</td>\n",
       "      <td>Grumpier Old Men (1995)</td>\n",
       "      <td>Comedy|Romance</td>\n",
       "    </tr>\n",
       "    <tr>\n",
       "      <th>3</th>\n",
       "      <td>4</td>\n",
       "      <td>Waiting to Exhale (1995)</td>\n",
       "      <td>Comedy|Drama|Romance</td>\n",
       "    </tr>\n",
       "    <tr>\n",
       "      <th>4</th>\n",
       "      <td>5</td>\n",
       "      <td>Father of the Bride Part II (1995)</td>\n",
       "      <td>Comedy</td>\n",
       "    </tr>\n",
       "  </tbody>\n",
       "</table>\n",
       "</div>"
      ],
      "text/plain": [
       "   movieId                               title   \n",
       "0        1                    Toy Story (1995)  \\\n",
       "1        2                      Jumanji (1995)   \n",
       "2        3             Grumpier Old Men (1995)   \n",
       "3        4            Waiting to Exhale (1995)   \n",
       "4        5  Father of the Bride Part II (1995)   \n",
       "\n",
       "                                        genres  \n",
       "0  Adventure|Animation|Children|Comedy|Fantasy  \n",
       "1                   Adventure|Children|Fantasy  \n",
       "2                               Comedy|Romance  \n",
       "3                         Comedy|Drama|Romance  \n",
       "4                                       Comedy  "
      ]
     },
     "execution_count": 213,
     "metadata": {},
     "output_type": "execute_result"
    }
   ],
   "source": [
    "#loading data on movies.csv\n",
    "movie_data = pd.read_csv('Datasets/movies.csv')\n",
    "movie_data.head()"
   ]
  },
  {
   "cell_type": "code",
   "execution_count": 214,
   "metadata": {},
   "outputs": [
    {
     "data": {
      "text/html": [
       "<div>\n",
       "<style scoped>\n",
       "    .dataframe tbody tr th:only-of-type {\n",
       "        vertical-align: middle;\n",
       "    }\n",
       "\n",
       "    .dataframe tbody tr th {\n",
       "        vertical-align: top;\n",
       "    }\n",
       "\n",
       "    .dataframe thead th {\n",
       "        text-align: right;\n",
       "    }\n",
       "</style>\n",
       "<table border=\"1\" class=\"dataframe\">\n",
       "  <thead>\n",
       "    <tr style=\"text-align: right;\">\n",
       "      <th></th>\n",
       "      <th>userId</th>\n",
       "      <th>movieId</th>\n",
       "      <th>rating</th>\n",
       "      <th>timestamp</th>\n",
       "    </tr>\n",
       "  </thead>\n",
       "  <tbody>\n",
       "    <tr>\n",
       "      <th>0</th>\n",
       "      <td>1</td>\n",
       "      <td>1</td>\n",
       "      <td>4.0</td>\n",
       "      <td>964982703</td>\n",
       "    </tr>\n",
       "    <tr>\n",
       "      <th>1</th>\n",
       "      <td>1</td>\n",
       "      <td>3</td>\n",
       "      <td>4.0</td>\n",
       "      <td>964981247</td>\n",
       "    </tr>\n",
       "    <tr>\n",
       "      <th>2</th>\n",
       "      <td>1</td>\n",
       "      <td>6</td>\n",
       "      <td>4.0</td>\n",
       "      <td>964982224</td>\n",
       "    </tr>\n",
       "    <tr>\n",
       "      <th>3</th>\n",
       "      <td>1</td>\n",
       "      <td>47</td>\n",
       "      <td>5.0</td>\n",
       "      <td>964983815</td>\n",
       "    </tr>\n",
       "    <tr>\n",
       "      <th>4</th>\n",
       "      <td>1</td>\n",
       "      <td>50</td>\n",
       "      <td>5.0</td>\n",
       "      <td>964982931</td>\n",
       "    </tr>\n",
       "  </tbody>\n",
       "</table>\n",
       "</div>"
      ],
      "text/plain": [
       "   userId  movieId  rating  timestamp\n",
       "0       1        1     4.0  964982703\n",
       "1       1        3     4.0  964981247\n",
       "2       1        6     4.0  964982224\n",
       "3       1       47     5.0  964983815\n",
       "4       1       50     5.0  964982931"
      ]
     },
     "execution_count": 214,
     "metadata": {},
     "output_type": "execute_result"
    }
   ],
   "source": [
    "#loading data on ratings.csv\n",
    "rating_data = pd.read_csv('Datasets/ratings.csv')\n",
    "rating_data.head()"
   ]
  },
  {
   "cell_type": "markdown",
   "metadata": {},
   "source": [
    "# 4.DATA CLEANING\n"
   ]
  },
  {
   "cell_type": "code",
   "execution_count": 215,
   "metadata": {},
   "outputs": [
    {
     "name": "stdout",
     "output_type": "stream",
     "text": [
      "<class 'pandas.core.frame.DataFrame'>\n",
      "RangeIndex: 9742 entries, 0 to 9741\n",
      "Data columns (total 3 columns):\n",
      " #   Column   Non-Null Count  Dtype \n",
      "---  ------   --------------  ----- \n",
      " 0   movieId  9742 non-null   int64 \n",
      " 1   title    9742 non-null   object\n",
      " 2   genres   9742 non-null   object\n",
      "dtypes: int64(1), object(2)\n",
      "memory usage: 228.5+ KB\n"
     ]
    }
   ],
   "source": [
    "movie_data.info()"
   ]
  },
  {
   "cell_type": "code",
   "execution_count": 216,
   "metadata": {},
   "outputs": [
    {
     "name": "stdout",
     "output_type": "stream",
     "text": [
      "<class 'pandas.core.frame.DataFrame'>\n",
      "RangeIndex: 100836 entries, 0 to 100835\n",
      "Data columns (total 4 columns):\n",
      " #   Column     Non-Null Count   Dtype  \n",
      "---  ------     --------------   -----  \n",
      " 0   userId     100836 non-null  int64  \n",
      " 1   movieId    100836 non-null  int64  \n",
      " 2   rating     100836 non-null  float64\n",
      " 3   timestamp  100836 non-null  int64  \n",
      "dtypes: float64(1), int64(3)\n",
      "memory usage: 3.1 MB\n"
     ]
    }
   ],
   "source": [
    "rating_data.info()"
   ]
  },
  {
   "cell_type": "markdown",
   "metadata": {},
   "source": [
    "From the above, the datasets do not contain any missing values."
   ]
  },
  {
   "cell_type": "markdown",
   "metadata": {},
   "source": [
    "### 4.1. DROPPING COLUMNS"
   ]
  },
  {
   "cell_type": "markdown",
   "metadata": {},
   "source": [
    "Only a few features and rows from the various datasets that were gathered are important to the procedure. As a result, in this stage, the features from each dataset that were not necessary were removed. "
   ]
  },
  {
   "cell_type": "code",
   "execution_count": 217,
   "metadata": {},
   "outputs": [
    {
     "data": {
      "text/html": [
       "<div>\n",
       "<style scoped>\n",
       "    .dataframe tbody tr th:only-of-type {\n",
       "        vertical-align: middle;\n",
       "    }\n",
       "\n",
       "    .dataframe tbody tr th {\n",
       "        vertical-align: top;\n",
       "    }\n",
       "\n",
       "    .dataframe thead th {\n",
       "        text-align: right;\n",
       "    }\n",
       "</style>\n",
       "<table border=\"1\" class=\"dataframe\">\n",
       "  <thead>\n",
       "    <tr style=\"text-align: right;\">\n",
       "      <th></th>\n",
       "      <th>userId</th>\n",
       "      <th>movieId</th>\n",
       "      <th>rating</th>\n",
       "    </tr>\n",
       "  </thead>\n",
       "  <tbody>\n",
       "    <tr>\n",
       "      <th>0</th>\n",
       "      <td>1</td>\n",
       "      <td>1</td>\n",
       "      <td>4.0</td>\n",
       "    </tr>\n",
       "    <tr>\n",
       "      <th>1</th>\n",
       "      <td>1</td>\n",
       "      <td>3</td>\n",
       "      <td>4.0</td>\n",
       "    </tr>\n",
       "    <tr>\n",
       "      <th>2</th>\n",
       "      <td>1</td>\n",
       "      <td>6</td>\n",
       "      <td>4.0</td>\n",
       "    </tr>\n",
       "    <tr>\n",
       "      <th>3</th>\n",
       "      <td>1</td>\n",
       "      <td>47</td>\n",
       "      <td>5.0</td>\n",
       "    </tr>\n",
       "    <tr>\n",
       "      <th>4</th>\n",
       "      <td>1</td>\n",
       "      <td>50</td>\n",
       "      <td>5.0</td>\n",
       "    </tr>\n",
       "  </tbody>\n",
       "</table>\n",
       "</div>"
      ],
      "text/plain": [
       "   userId  movieId  rating\n",
       "0       1        1     4.0\n",
       "1       1        3     4.0\n",
       "2       1        6     4.0\n",
       "3       1       47     5.0\n",
       "4       1       50     5.0"
      ]
     },
     "execution_count": 217,
     "metadata": {},
     "output_type": "execute_result"
    }
   ],
   "source": [
    "rating_data = rating_data.drop(columns=['timestamp'])\n",
    "rating_data.head()"
   ]
  },
  {
   "cell_type": "markdown",
   "metadata": {},
   "source": [
    "### 4.2. ENCODING (ONE-HOT ENCODING)"
   ]
  },
  {
   "cell_type": "code",
   "execution_count": 218,
   "metadata": {},
   "outputs": [],
   "source": [
    "# Convert genres into binary columns\n",
    "#genres = movie_data['genres'].str.get_dummies('|')\n",
    "\n",
    "# Concatenate the binary genre columns to the movie_data DataFrame\n",
    "#movie_data = pd.concat([movie_data, genres], axis=1)\n",
    "\n",
    "# Drop the original 'genres' column\n",
    "#movie_data = movie_data.drop(columns=['genres'])\n",
    "#movie_data.head()"
   ]
  },
  {
   "cell_type": "markdown",
   "metadata": {},
   "source": [
    "# 5.EXPLORATORY DATA ANALYSIS"
   ]
  },
  {
   "cell_type": "markdown",
   "metadata": {},
   "source": [
    "### 5.1. DATA VISUALIZATIONS"
   ]
  },
  {
   "cell_type": "code",
   "execution_count": 232,
   "metadata": {},
   "outputs": [
    {
     "data": {
      "image/png": "[encoded data removed]",
      "text/plain": [
       "<Figure size 1200x600 with 1 Axes>"
      ]
     },
     "metadata": {},
     "output_type": "display_data"
    }
   ],
   "source": [
    "#Plot the distribution of movie genres\n",
    "genre_counts = movie_data['genres'].str.split('|', expand=True).stack().value_counts()\n",
    "plt.figure(figsize=(12, 6))\n",
    "sns.barplot(x=genre_counts.values, y=genre_counts.index, palette=\"viridis\")\n",
    "plt.title('Distribution of Movie Genres')\n",
    "plt.xlabel('Count')\n",
    "plt.ylabel('Genres')\n",
    "plt.show()"
   ]
  },
  {
   "cell_type": "code",
   "execution_count": 233,
   "metadata": {},
   "outputs": [
    {
     "data": {
      "image/png": "[encoded data removed]",
      "text/plain": [
       "<Figure size 800x600 with 1 Axes>"
      ]
     },
     "metadata": {},
     "output_type": "display_data"
    }
   ],
   "source": [
    "#Plot the distribution of user ratings\n",
    "plt.figure(figsize=(8, 6))\n",
    "sns.histplot(rating_data['rating'], bins=5, kde=True, color='skyblue')\n",
    "plt.title('Distribution of User Ratings')\n",
    "plt.xlabel('Rating')\n",
    "plt.ylabel('Frequency')\n",
    "plt.show()"
   ]
  },
  {
   "cell_type": "code",
   "execution_count": null,
   "metadata": {},
   "outputs": [],
   "source": []
  },
  {
   "cell_type": "markdown",
   "metadata": {},
   "source": [
    "# 5.EXPLORATORY DATA ANALYSIS\n",
    "###     5.1.MERGE THE DATASETS"
   ]
  },
  {
   "cell_type": "code",
   "execution_count": 219,
   "metadata": {},
   "outputs": [
    {
     "data": {
      "text/html": [
       "<div>\n",
       "<style scoped>\n",
       "    .dataframe tbody tr th:only-of-type {\n",
       "        vertical-align: middle;\n",
       "    }\n",
       "\n",
       "    .dataframe tbody tr th {\n",
       "        vertical-align: top;\n",
       "    }\n",
       "\n",
       "    .dataframe thead th {\n",
       "        text-align: right;\n",
       "    }\n",
       "</style>\n",
       "<table border=\"1\" class=\"dataframe\">\n",
       "  <thead>\n",
       "    <tr style=\"text-align: right;\">\n",
       "      <th></th>\n",
       "      <th>userId</th>\n",
       "      <th>movieId</th>\n",
       "      <th>rating</th>\n",
       "      <th>title</th>\n",
       "      <th>genres</th>\n",
       "    </tr>\n",
       "  </thead>\n",
       "  <tbody>\n",
       "    <tr>\n",
       "      <th>0</th>\n",
       "      <td>1</td>\n",
       "      <td>1</td>\n",
       "      <td>4.0</td>\n",
       "      <td>Toy Story (1995)</td>\n",
       "      <td>Adventure|Animation|Children|Comedy|Fantasy</td>\n",
       "    </tr>\n",
       "    <tr>\n",
       "      <th>1</th>\n",
       "      <td>5</td>\n",
       "      <td>1</td>\n",
       "      <td>4.0</td>\n",
       "      <td>Toy Story (1995)</td>\n",
       "      <td>Adventure|Animation|Children|Comedy|Fantasy</td>\n",
       "    </tr>\n",
       "    <tr>\n",
       "      <th>2</th>\n",
       "      <td>7</td>\n",
       "      <td>1</td>\n",
       "      <td>4.5</td>\n",
       "      <td>Toy Story (1995)</td>\n",
       "      <td>Adventure|Animation|Children|Comedy|Fantasy</td>\n",
       "    </tr>\n",
       "    <tr>\n",
       "      <th>3</th>\n",
       "      <td>15</td>\n",
       "      <td>1</td>\n",
       "      <td>2.5</td>\n",
       "      <td>Toy Story (1995)</td>\n",
       "      <td>Adventure|Animation|Children|Comedy|Fantasy</td>\n",
       "    </tr>\n",
       "    <tr>\n",
       "      <th>4</th>\n",
       "      <td>17</td>\n",
       "      <td>1</td>\n",
       "      <td>4.5</td>\n",
       "      <td>Toy Story (1995)</td>\n",
       "      <td>Adventure|Animation|Children|Comedy|Fantasy</td>\n",
       "    </tr>\n",
       "    <tr>\n",
       "      <th>...</th>\n",
       "      <td>...</td>\n",
       "      <td>...</td>\n",
       "      <td>...</td>\n",
       "      <td>...</td>\n",
       "      <td>...</td>\n",
       "    </tr>\n",
       "    <tr>\n",
       "      <th>100831</th>\n",
       "      <td>610</td>\n",
       "      <td>160341</td>\n",
       "      <td>2.5</td>\n",
       "      <td>Bloodmoon (1997)</td>\n",
       "      <td>Action|Thriller</td>\n",
       "    </tr>\n",
       "    <tr>\n",
       "      <th>100832</th>\n",
       "      <td>610</td>\n",
       "      <td>160527</td>\n",
       "      <td>4.5</td>\n",
       "      <td>Sympathy for the Underdog (1971)</td>\n",
       "      <td>Action|Crime|Drama</td>\n",
       "    </tr>\n",
       "    <tr>\n",
       "      <th>100833</th>\n",
       "      <td>610</td>\n",
       "      <td>160836</td>\n",
       "      <td>3.0</td>\n",
       "      <td>Hazard (2005)</td>\n",
       "      <td>Action|Drama|Thriller</td>\n",
       "    </tr>\n",
       "    <tr>\n",
       "      <th>100834</th>\n",
       "      <td>610</td>\n",
       "      <td>163937</td>\n",
       "      <td>3.5</td>\n",
       "      <td>Blair Witch (2016)</td>\n",
       "      <td>Horror|Thriller</td>\n",
       "    </tr>\n",
       "    <tr>\n",
       "      <th>100835</th>\n",
       "      <td>610</td>\n",
       "      <td>163981</td>\n",
       "      <td>3.5</td>\n",
       "      <td>31 (2016)</td>\n",
       "      <td>Horror</td>\n",
       "    </tr>\n",
       "  </tbody>\n",
       "</table>\n",
       "<p>100836 rows × 5 columns</p>\n",
       "</div>"
      ],
      "text/plain": [
       "        userId  movieId  rating                             title   \n",
       "0            1        1     4.0                  Toy Story (1995)  \\\n",
       "1            5        1     4.0                  Toy Story (1995)   \n",
       "2            7        1     4.5                  Toy Story (1995)   \n",
       "3           15        1     2.5                  Toy Story (1995)   \n",
       "4           17        1     4.5                  Toy Story (1995)   \n",
       "...        ...      ...     ...                               ...   \n",
       "100831     610   160341     2.5                  Bloodmoon (1997)   \n",
       "100832     610   160527     4.5  Sympathy for the Underdog (1971)   \n",
       "100833     610   160836     3.0                     Hazard (2005)   \n",
       "100834     610   163937     3.5                Blair Witch (2016)   \n",
       "100835     610   163981     3.5                         31 (2016)   \n",
       "\n",
       "                                             genres  \n",
       "0       Adventure|Animation|Children|Comedy|Fantasy  \n",
       "1       Adventure|Animation|Children|Comedy|Fantasy  \n",
       "2       Adventure|Animation|Children|Comedy|Fantasy  \n",
       "3       Adventure|Animation|Children|Comedy|Fantasy  \n",
       "4       Adventure|Animation|Children|Comedy|Fantasy  \n",
       "...                                             ...  \n",
       "100831                              Action|Thriller  \n",
       "100832                           Action|Crime|Drama  \n",
       "100833                        Action|Drama|Thriller  \n",
       "100834                              Horror|Thriller  \n",
       "100835                                       Horror  \n",
       "\n",
       "[100836 rows x 5 columns]"
      ]
     },
     "execution_count": 219,
     "metadata": {},
     "output_type": "execute_result"
    }
   ],
   "source": [
    "# Merge the ratings dataset with the movies dataset based on 'movieId'\n",
    "merged_data = pd.merge(rating_data, movie_data, on='movieId')\n",
    "merged_data"
   ]
  },
  {
   "cell_type": "markdown",
   "metadata": {},
   "source": [
    "###     5.2.CREATE USER-ITEM RATING MATRIX\n",
    "After merging,  I created the user-item rating matrix. This matrix will have users as rows, movies as columns, and user ratings as values.The resulting user_item_matrix will be the basis for collaborative filtering, enabling me to make recommendations based on user-item interactions."
   ]
  },
  {
   "cell_type": "code",
   "execution_count": 220,
   "metadata": {},
   "outputs": [
    {
     "name": "stdout",
     "output_type": "stream",
     "text": [
      "movieId  1       2       3       4       5       6       7       8        \n",
      "userId                                                                    \n",
      "1           4.0     NaN     4.0     NaN     NaN     4.0     NaN     NaN  \\\n",
      "2           NaN     NaN     NaN     NaN     NaN     NaN     NaN     NaN   \n",
      "3           NaN     NaN     NaN     NaN     NaN     NaN     NaN     NaN   \n",
      "4           NaN     NaN     NaN     NaN     NaN     NaN     NaN     NaN   \n",
      "5           4.0     NaN     NaN     NaN     NaN     NaN     NaN     NaN   \n",
      "...         ...     ...     ...     ...     ...     ...     ...     ...   \n",
      "606         2.5     NaN     NaN     NaN     NaN     NaN     2.5     NaN   \n",
      "607         4.0     NaN     NaN     NaN     NaN     NaN     NaN     NaN   \n",
      "608         2.5     2.0     2.0     NaN     NaN     NaN     NaN     NaN   \n",
      "609         3.0     NaN     NaN     NaN     NaN     NaN     NaN     NaN   \n",
      "610         5.0     NaN     NaN     NaN     NaN     5.0     NaN     NaN   \n",
      "\n",
      "movieId  9       10      ...  193565  193567  193571  193573  193579  193581   \n",
      "userId                   ...                                                   \n",
      "1           NaN     NaN  ...     NaN     NaN     NaN     NaN     NaN     NaN  \\\n",
      "2           NaN     NaN  ...     NaN     NaN     NaN     NaN     NaN     NaN   \n",
      "3           NaN     NaN  ...     NaN     NaN     NaN     NaN     NaN     NaN   \n",
      "4           NaN     NaN  ...     NaN     NaN     NaN     NaN     NaN     NaN   \n",
      "5           NaN     NaN  ...     NaN     NaN     NaN     NaN     NaN     NaN   \n",
      "...         ...     ...  ...     ...     ...     ...     ...     ...     ...   \n",
      "606         NaN     NaN  ...     NaN     NaN     NaN     NaN     NaN     NaN   \n",
      "607         NaN     NaN  ...     NaN     NaN     NaN     NaN     NaN     NaN   \n",
      "608         NaN     4.0  ...     NaN     NaN     NaN     NaN     NaN     NaN   \n",
      "609         NaN     4.0  ...     NaN     NaN     NaN     NaN     NaN     NaN   \n",
      "610         NaN     NaN  ...     NaN     NaN     NaN     NaN     NaN     NaN   \n",
      "\n",
      "movieId  193583  193585  193587  193609  \n",
      "userId                                   \n",
      "1           NaN     NaN     NaN     NaN  \n",
      "2           NaN     NaN     NaN     NaN  \n",
      "3           NaN     NaN     NaN     NaN  \n",
      "4           NaN     NaN     NaN     NaN  \n",
      "5           NaN     NaN     NaN     NaN  \n",
      "...         ...     ...     ...     ...  \n",
      "606         NaN     NaN     NaN     NaN  \n",
      "607         NaN     NaN     NaN     NaN  \n",
      "608         NaN     NaN     NaN     NaN  \n",
      "609         NaN     NaN     NaN     NaN  \n",
      "610         NaN     NaN     NaN     NaN  \n",
      "\n",
      "[610 rows x 9724 columns]\n"
     ]
    }
   ],
   "source": [
    "user_item_matrix = merged_data.pivot_table(index='userId', columns='movieId', values='rating')\n",
    "print(user_item_matrix)\n"
   ]
  },
  {
   "cell_type": "code",
   "execution_count": 221,
   "metadata": {},
   "outputs": [
    {
     "name": "stdout",
     "output_type": "stream",
     "text": [
      "movieId   1         2         3         4         5         6         7        \n",
      "userId                                                                         \n",
      "1        4.00000  3.431818  4.000000  2.357143  3.071429  4.000000  3.185185  \\\n",
      "2        3.92093  3.431818  3.259615  2.357143  3.071429  3.946078  3.185185   \n",
      "3        3.92093  3.431818  3.259615  2.357143  3.071429  3.946078  3.185185   \n",
      "4        3.92093  3.431818  3.259615  2.357143  3.071429  3.946078  3.185185   \n",
      "5        4.00000  3.431818  3.259615  2.357143  3.071429  3.946078  3.185185   \n",
      "...          ...       ...       ...       ...       ...       ...       ...   \n",
      "606      2.50000  3.431818  3.259615  2.357143  3.071429  3.946078  2.500000   \n",
      "607      4.00000  3.431818  3.259615  2.357143  3.071429  3.946078  3.185185   \n",
      "608      2.50000  2.000000  2.000000  2.357143  3.071429  3.946078  3.185185   \n",
      "609      3.00000  3.431818  3.259615  2.357143  3.071429  3.946078  3.185185   \n",
      "610      5.00000  3.431818  3.259615  2.357143  3.071429  5.000000  3.185185   \n",
      "\n",
      "movieId  8       9         10      ...  193565  193567  193571  193573   \n",
      "userId                             ...                                   \n",
      "1         2.875   3.125  3.496212  ...     3.5     3.0     4.0     4.0  \\\n",
      "2         2.875   3.125  3.496212  ...     3.5     3.0     4.0     4.0   \n",
      "3         2.875   3.125  3.496212  ...     3.5     3.0     4.0     4.0   \n",
      "4         2.875   3.125  3.496212  ...     3.5     3.0     4.0     4.0   \n",
      "5         2.875   3.125  3.496212  ...     3.5     3.0     4.0     4.0   \n",
      "...         ...     ...       ...  ...     ...     ...     ...     ...   \n",
      "606       2.875   3.125  3.496212  ...     3.5     3.0     4.0     4.0   \n",
      "607       2.875   3.125  3.496212  ...     3.5     3.0     4.0     4.0   \n",
      "608       2.875   3.125  4.000000  ...     3.5     3.0     4.0     4.0   \n",
      "609       2.875   3.125  4.000000  ...     3.5     3.0     4.0     4.0   \n",
      "610       2.875   3.125  3.496212  ...     3.5     3.0     4.0     4.0   \n",
      "\n",
      "movieId  193579  193581  193583  193585  193587  193609  \n",
      "userId                                                   \n",
      "1           3.5     4.0     3.5     3.5     3.5     4.0  \n",
      "2           3.5     4.0     3.5     3.5     3.5     4.0  \n",
      "3           3.5     4.0     3.5     3.5     3.5     4.0  \n",
      "4           3.5     4.0     3.5     3.5     3.5     4.0  \n",
      "5           3.5     4.0     3.5     3.5     3.5     4.0  \n",
      "...         ...     ...     ...     ...     ...     ...  \n",
      "606         3.5     4.0     3.5     3.5     3.5     4.0  \n",
      "607         3.5     4.0     3.5     3.5     3.5     4.0  \n",
      "608         3.5     4.0     3.5     3.5     3.5     4.0  \n",
      "609         3.5     4.0     3.5     3.5     3.5     4.0  \n",
      "610         3.5     4.0     3.5     3.5     3.5     4.0  \n",
      "\n",
      "[610 rows x 9724 columns]\n"
     ]
    }
   ],
   "source": [
    "# Calculate the mean of each column (movie)\n",
    "column_means = user_item_matrix.mean()\n",
    "\n",
    "# Fill missing values in each column with the respective column mean\n",
    "user_item_matrix_filled = user_item_matrix.fillna(column_means)\n",
    "\n",
    "# Check the resulting user_item_matrix with missing values filled by column mean\n",
    "print(user_item_matrix_filled)\n"
   ]
  },
  {
   "cell_type": "code",
   "execution_count": 222,
   "metadata": {},
   "outputs": [
    {
     "name": "stdout",
     "output_type": "stream",
     "text": [
      "userId        1         2         3         4         5        6         7     \n",
      "movieId                                                                        \n",
      "1        4.000000  3.920930  3.920930  3.920930  4.000000  3.92093  4.500000  \\\n",
      "2        3.431818  3.431818  3.431818  3.431818  3.431818  4.00000  3.431818   \n",
      "3        4.000000  3.259615  3.259615  3.259615  3.259615  5.00000  3.259615   \n",
      "4        2.357143  2.357143  2.357143  2.357143  2.357143  3.00000  2.357143   \n",
      "5        3.071429  3.071429  3.071429  3.071429  3.071429  5.00000  3.071429   \n",
      "...           ...       ...       ...       ...       ...      ...       ...   \n",
      "193581   4.000000  4.000000  4.000000  4.000000  4.000000  4.00000  4.000000   \n",
      "193583   3.500000  3.500000  3.500000  3.500000  3.500000  3.50000  3.500000   \n",
      "193585   3.500000  3.500000  3.500000  3.500000  3.500000  3.50000  3.500000   \n",
      "193587   3.500000  3.500000  3.500000  3.500000  3.500000  3.50000  3.500000   \n",
      "193609   4.000000  4.000000  4.000000  4.000000  4.000000  4.00000  4.000000   \n",
      "\n",
      "userId        8         9         10   ...       601       602       603   \n",
      "movieId                                ...                                 \n",
      "1        3.920930  3.920930  3.920930  ...  4.000000  3.920930  4.000000  \\\n",
      "2        4.000000  3.431818  3.431818  ...  3.431818  4.000000  3.431818   \n",
      "3        3.259615  3.259615  3.259615  ...  3.259615  3.259615  3.259615   \n",
      "4        2.357143  2.357143  2.357143  ...  2.357143  2.357143  2.357143   \n",
      "5        3.071429  3.071429  3.071429  ...  3.071429  3.071429  3.071429   \n",
      "...           ...       ...       ...  ...       ...       ...       ...   \n",
      "193581   4.000000  4.000000  4.000000  ...  4.000000  4.000000  4.000000   \n",
      "193583   3.500000  3.500000  3.500000  ...  3.500000  3.500000  3.500000   \n",
      "193585   3.500000  3.500000  3.500000  ...  3.500000  3.500000  3.500000   \n",
      "193587   3.500000  3.500000  3.500000  ...  3.500000  3.500000  3.500000   \n",
      "193609   4.000000  4.000000  4.000000  ...  4.000000  4.000000  4.000000   \n",
      "\n",
      "userId        604       605       606       607       608       609       610  \n",
      "movieId                                                                        \n",
      "1        3.000000  4.000000  2.500000  4.000000  2.500000  3.000000  5.000000  \n",
      "2        5.000000  3.500000  3.431818  3.431818  2.000000  3.431818  3.431818  \n",
      "3        3.259615  3.259615  3.259615  3.259615  2.000000  3.259615  3.259615  \n",
      "4        2.357143  2.357143  2.357143  2.357143  2.357143  2.357143  2.357143  \n",
      "5        3.000000  3.071429  3.071429  3.071429  3.071429  3.071429  3.071429  \n",
      "...           ...       ...       ...       ...       ...       ...       ...  \n",
      "193581   4.000000  4.000000  4.000000  4.000000  4.000000  4.000000  4.000000  \n",
      "193583   3.500000  3.500000  3.500000  3.500000  3.500000  3.500000  3.500000  \n",
      "193585   3.500000  3.500000  3.500000  3.500000  3.500000  3.500000  3.500000  \n",
      "193587   3.500000  3.500000  3.500000  3.500000  3.500000  3.500000  3.500000  \n",
      "193609   4.000000  4.000000  4.000000  4.000000  4.000000  4.000000  4.000000  \n",
      "\n",
      "[9724 rows x 610 columns]\n"
     ]
    }
   ],
   "source": [
    "# Get the transpose of the user_item_matrix_filled\n",
    "user_item_matrix_transpose = user_item_matrix_filled.T\n",
    "\n",
    "# Check the resulting transpose matrix\n",
    "print(user_item_matrix_transpose)\n"
   ]
  },
  {
   "cell_type": "code",
   "execution_count": 223,
   "metadata": {},
   "outputs": [
    {
     "name": "stdout",
     "output_type": "stream",
     "text": [
      "userId       1         2         3         4         5         6         7     \n",
      "userId                                                                         \n",
      "1       1.000000  0.981361  0.968064  0.961786  0.980270  0.967982  0.968921  \\\n",
      "2       0.981361  1.000000  0.985716  0.977565  0.996879  0.984176  0.985635   \n",
      "3       0.968064  0.985716  1.000000  0.965311  0.984030  0.972688  0.973500   \n",
      "4       0.961786  0.977565  0.965311  1.000000  0.975613  0.964872  0.967989   \n",
      "5       0.980270  0.996879  0.984030  0.975613  1.000000  0.982943  0.984312   \n",
      "...          ...       ...       ...       ...       ...       ...       ...   \n",
      "606     0.958755  0.976107  0.962140  0.955285  0.974750  0.961633  0.962864   \n",
      "607     0.970771  0.986096  0.974160  0.966672  0.984900  0.974062  0.974946   \n",
      "608     0.933873  0.954604  0.943196  0.933437  0.952844  0.936647  0.940332   \n",
      "609     0.981666  0.998366  0.986072  0.978144  0.997267  0.984419  0.985857   \n",
      "610     0.953530  0.968538  0.957117  0.946774  0.966477  0.954702  0.954923   \n",
      "\n",
      "userId       8         9         10   ...       601       602       603   \n",
      "userId                                ...                                 \n",
      "1       0.980365  0.980658  0.967745  ...  0.979981  0.974947  0.923888  \\\n",
      "2       0.996476  0.996877  0.984618  ...  0.996069  0.991274  0.944237   \n",
      "3       0.984017  0.984691  0.972573  ...  0.983360  0.978991  0.934106   \n",
      "4       0.976793  0.976594  0.968255  ...  0.974919  0.972787  0.924167   \n",
      "5       0.994666  0.995565  0.982997  ...  0.994918  0.989534  0.943368   \n",
      "...          ...       ...       ...  ...       ...       ...       ...   \n",
      "606     0.974599  0.974857  0.961424  ...  0.974574  0.968924  0.923820   \n",
      "607     0.984824  0.985050  0.973118  ...  0.985231  0.980009  0.933714   \n",
      "608     0.953767  0.953397  0.939584  ...  0.953639  0.948521  0.902784   \n",
      "609     0.997117  0.997244  0.985089  ...  0.996612  0.991374  0.945073   \n",
      "610     0.966870  0.967475  0.953255  ...  0.967821  0.961595  0.914821   \n",
      "\n",
      "userId       604       605       606       607       608       609       610  \n",
      "userId                                                                        \n",
      "1       0.977669  0.973142  0.958755  0.970771  0.933873  0.981666  0.953530  \n",
      "2       0.994537  0.991079  0.976107  0.986096  0.954604  0.998366  0.968538  \n",
      "3       0.982388  0.978969  0.962140  0.974160  0.943196  0.986072  0.957117  \n",
      "4       0.974326  0.971950  0.955285  0.966672  0.933437  0.978144  0.946774  \n",
      "5       0.993042  0.989284  0.974750  0.984900  0.952844  0.997267  0.966477  \n",
      "...          ...       ...       ...       ...       ...       ...       ...  \n",
      "606     0.973215  0.969047  1.000000  0.962743  0.933776  0.976669  0.945731  \n",
      "607     0.983111  0.979085  0.962743  1.000000  0.943045  0.986258  0.956655  \n",
      "608     0.950174  0.948055  0.933776  0.943045  1.000000  0.955525  0.924408  \n",
      "609     0.995228  0.991670  0.976669  0.986258  0.955525  1.000000  0.967919  \n",
      "610     0.964381  0.961066  0.945731  0.956655  0.924408  0.967919  1.000000  \n",
      "\n",
      "[610 rows x 610 columns]\n"
     ]
    }
   ],
   "source": [
    "# Calculate the correlation matrix for the transposed user_item_matrix\n",
    "correlation_matrix = user_item_matrix_transpose.corr()\n",
    "\n",
    "# Check the resulting correlation matrix\n",
    "print(correlation_matrix)\n"
   ]
  },
  {
   "cell_type": "code",
   "execution_count": 224,
   "metadata": {},
   "outputs": [
    {
     "name": "stdout",
     "output_type": "stream",
     "text": [
      "Top 100 Correlated Users with User 5:\n",
      "userId\n",
      "5      1.000000\n",
      "145    0.997843\n",
      "189    0.997581\n",
      "49     0.997492\n",
      "26     0.997389\n",
      "         ...   \n",
      "248    0.996194\n",
      "540    0.996190\n",
      "252    0.996168\n",
      "531    0.996166\n",
      "37     0.996164\n",
      "Name: 5, Length: 100, dtype: float64\n"
     ]
    }
   ],
   "source": [
    "# Find the 3rd user (User ID 3) in the correlation matrix\n",
    "user_5_correlations = correlation_matrix.iloc[4]  # Index 4 corresponds to User ID 5\n",
    "\n",
    "# Sort the correlations in descending order and drop null values\n",
    "top_100_correlations = user_5_correlations.sort_values(ascending=False).dropna().head(100)\n",
    "\n",
    "# Print the top 100 correlated users with User 5\n",
    "print(\"Top 100 Correlated Users with User 5:\")\n",
    "print(top_100_correlations)\n"
   ]
  },
  {
   "cell_type": "code",
   "execution_count": 225,
   "metadata": {},
   "outputs": [
    {
     "name": "stdout",
     "output_type": "stream",
     "text": [
      "User 5 rated Movie 6 with a rating of 3.946078431372549\n"
     ]
    }
   ],
   "source": [
    "# Check if User 5 rated Movie 6\n",
    "user_id = 5\n",
    "movie_id = 6\n",
    "\n",
    "# Get the rating from the user-item matrix\n",
    "rating = user_item_matrix_filled.loc[user_id, movie_id]\n",
    "\n",
    "if not np.isnan(rating):\n",
    "    print(f\"User {user_id} rated Movie {movie_id} with a rating of {rating}\")\n",
    "else:\n",
    "    print(f\"User {user_id} did not rate Movie {movie_id}\")\n"
   ]
  },
  {
   "cell_type": "code",
   "execution_count": 226,
   "metadata": {},
   "outputs": [
    {
     "name": "stdout",
     "output_type": "stream",
     "text": [
      "Number of users in the top 100 correlated users who have rated movie 6: 6\n"
     ]
    }
   ],
   "source": [
    "# Get the top 100 users based on correlation\n",
    "top100_users = top_100_correlations.keys()\n",
    "\n",
    "# Initialize a counter and a list to store users who have rated movie 6\n",
    "count = 0\n",
    "users = list()\n",
    "\n",
    "# Iterate through the top 100 users\n",
    "for user in top100_users:\n",
    "    # Filter the DataFrame to find rows where the user rated Movie 6\n",
    "    user_movie6_ratings = merged_data[(merged_data['userId'] == user) & (merged_data['movieId'] == 6)]\n",
    "    \n",
    "    # Check if the user has any ratings for Movie 6\n",
    "    if not user_movie6_ratings.empty:\n",
    "        count += 1\n",
    "        users.append(user)\n",
    "\n",
    "# Print the count of users who have rated Movie 6 in the top 100 correlated users\n",
    "print(f\"Number of users in the top 100 correlated users who have rated movie 6: {count}\")\n"
   ]
  },
  {
   "cell_type": "code",
   "execution_count": 228,
   "metadata": {},
   "outputs": [
    {
     "data": {
      "image/png": "[encoded data removed]",
      "text/plain": [
       "<Figure size 800x600 with 1 Axes>"
      ]
     },
     "metadata": {},
     "output_type": "display_data"
    }
   ],
   "source": [
    "# Number of ratings per movie\n",
    "movie_ratings_count = merged_data.groupby('movieId')['rating'].count()\n",
    "plt.figure(figsize=(8, 6))\n",
    "sns.histplot(movie_ratings_count, bins=50)\n",
    "plt.title('Number of Ratings per Movie')\n",
    "plt.xlabel('Number of Ratings')\n",
    "plt.ylabel('Count')\n",
    "plt.show()\n"
   ]
  },
  {
   "cell_type": "code",
   "execution_count": 229,
   "metadata": {},
   "outputs": [
    {
     "data": {
      "image/png": "[encoded data removed]",
      "text/plain": [
       "<Figure size 800x600 with 1 Axes>"
      ]
     },
     "metadata": {},
     "output_type": "display_data"
    }
   ],
   "source": [
    "# Number of ratings per user\n",
    "user_ratings_count = rating_data.groupby('userId')['rating'].count()\n",
    "plt.figure(figsize=(8, 6))\n",
    "sns.histplot(user_ratings_count, bins=50)\n",
    "plt.title('Number of Ratings per User')\n",
    "plt.xlabel('Number of Ratings')\n",
    "plt.ylabel('Count')\n",
    "plt.show()"
   ]
  },
  {
   "cell_type": "code",
   "execution_count": 230,
   "metadata": {},
   "outputs": [
    {
     "name": "stdout",
     "output_type": "stream",
     "text": [
      "Top-rated movies:\n",
      "   movieId  rating                                      title\n",
      "0    88448     5.0      Paper Birds (Pájaros de papel) (2010)\n",
      "1   100556     5.0                 Act of Killing, The (2012)\n",
      "2   143031     5.0                            Jump In! (2007)\n",
      "3   143511     5.0                               Human (2015)\n",
      "4   143559     5.0                        L.A. Slasher (2015)\n",
      "5     6201     5.0                           Lady Jane (1986)\n",
      "6   102217     5.0             Bill Hicks: Revelations (1993)\n",
      "7   102084     5.0               Justice League: Doom (2012) \n",
      "8     6192     5.0  Open Hearts (Elsker dig for evigt) (2002)\n",
      "9   145994     5.0                     Formula of Love (1984)\n"
     ]
    }
   ],
   "source": [
    "# Top-rated movies\n",
    "top_rated_movies = merged_data.groupby('movieId')['rating'].mean().sort_values(ascending=False)\n",
    "top_rated_movies = pd.merge(top_rated_movies, merged_data[['movieId', 'title']], on='movieId', how='left')\n",
    "top_rated_movies = top_rated_movies.drop_duplicates(subset=['movieId', 'title'])\n",
    "top_rated_movies = top_rated_movies.head(10)\n",
    "print(\"Top-rated movies:\")\n",
    "print(top_rated_movies)"
   ]
  },
  {
   "cell_type": "markdown",
   "metadata": {},
   "source": [
    "# 6.RECOMMENDATION SYSTEM DEVELOPMENT"
   ]
  },
  {
   "cell_type": "markdown",
   "metadata": {},
   "source": [
    "### 6.1.COLLABORATIVE FILTERING"
   ]
  },
  {
   "cell_type": "code",
   "execution_count": null,
   "metadata": {},
   "outputs": [
    {
     "name": "stdout",
     "output_type": "stream",
     "text": [
      "Number of unrated movies for User 10: 0\n",
      "Number of movie recommendations for User 5:0\n"
     ]
    }
   ],
   "source": [
    "#Identify the top 100 correlated users with User 10\n",
    "top_100_correlated_users = top_100_correlations.index.tolist()\n",
    "\n",
    "#Filter movies that User 10 hasn't rated\n",
    "user_5_ratings = user_item_matrix_filled.loc[4]  # Ratings of User 10\n",
    "unrated_movies_user_5 = user_5_ratings[user_5_ratings.isnull()].index.tolist()\n",
    "\n",
    "print(f\"Number of unrated movies for User 10: {len(unrated_movies_user_5)}\")\n",
    "\n",
    "#Generate movie recommendations for User 10\n",
    "movie_recommendations = []\n",
    "for movie_id in unrated_movies_user_5:\n",
    "    weighted_sum = 0\n",
    "    similarity_sum = 0\n",
    "    for user_id in top_100_correlated_users:\n",
    "        user_similarity = top_100_correlations[user_id]\n",
    "        user_rating = user_item_matrix_filled.loc[user_id, movie_id]\n",
    "        if not np.isnan(user_rating):\n",
    "            weighted_sum += user_similarity * user_rating\n",
    "            similarity_sum += abs(user_similarity)\n",
    "    if similarity_sum > 0:\n",
    "        predicted_rating = weighted_sum / similarity_sum\n",
    "        movie_recommendations.append((movie_id, predicted_rating))\n",
    "\n",
    "print(f\"Number of movie recommendations for User 5:{len(movie_recommendations)}\")\n",
    "\n",
    "#Sort recommendations by predicted rating in descending order\n",
    "movie_recommendations.sort(key=lambda x: x[1], reverse=True)\n",
    "\n",
    "#Print the top 10 movie recommendations\n",
    "top_10_recommendations = movie_recommendations[:10]\n",
    "for movie_id, predicted_rating in top_10_recommendations:\n",
    "    movie_title = movie_data[movie_data['movieId'] == movie_id]['title'].values[0]\n",
    "    print(f\"Movie: {movie_title}, Predicted Rating: {predicted_rating:.2f}\")\n"
   ]
  },
  {
   "cell_type": "markdown",
   "metadata": {},
   "source": [
    "user-item matrix get transpose\n",
    "2.get corelation of user ittem matrix transpose\n",
    "3.select a random user from the transpose matrix and drop null values in that user\n",
    "\n",
    "sort the correlation of the user...\n",
    "look at the top 100 co-related to user 1(1-100)\n",
    "\n",
    "\n",
    "\n",
    "check userrrrr 4 rated movieid 6,merged df{}\n",
    "based on the correlation, user 5 will rate how this movie....moviedf['title][]......\n",
    "....predict..how user will rate movie no ......(weighted ratings)\n",
    "df for mean ratings.....\n",
    "from mean ratings ...total ratings column\n",
    "....\n",
    "no of people who rated a particular movie\n",
    "create a fxn to calcullate how user 5 willl rate movie 6\n",
    "\n",
    "\n"
   ]
  },
  {
   "cell_type": "markdown",
   "metadata": {},
   "source": [
    "merged data\n",
    "word_cloud.......genre column create a dictionary \n",
    "top watched movie:heavily rated movie....\n",
    "highly rated movies\n",
    "mean rating ...and total ratings relationship\n",
    "\n"
   ]
  }
 ],
 "metadata": {
  "kernelspec": {
   "display_name": "learn-env",
   "language": "python",
   "name": "python3"
  },
  "language_info": {
   "codemirror_mode": {
    "name": "ipython",
    "version": 3
   },
   "file_extension": ".py",
   "mimetype": "text/x-python",
   "name": "python",
   "nbconvert_exporter": "python",
   "pygments_lexer": "ipython3",
   "version": "3.10.11"
  },
  "orig_nbformat": 4
 },
 "nbformat": 4,
 "nbformat_minor": 2
}
