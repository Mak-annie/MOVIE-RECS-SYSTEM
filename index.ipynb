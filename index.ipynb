{
 "cells": [
  {
   "cell_type": "markdown",
   "metadata": {},
   "source": [
    "# 1.BUSINESS UNDERSTANDING\n",
    "    A. INTRODUCTION\n",
    "In today's digital era, the world of cinema has witnessed a transformative shift. Streaming platforms have unlocked a vast library of movies, granting users unprecedented access to a multitude of entertainment options. However, amidst this abundance, users often find themselves overwhelmed, struggling to identify movies that resonate with their individual tastes. In response to this challenge, I introduce an innovative movie recommendation system, poised to revolutionize the way users discover and enjoy films."
   ]
  },
  {
   "cell_type": "markdown",
   "metadata": {},
   "source": [
    "    B.PROBLEM STATEMENT\n",
    "The proliferation of online streaming platforms has created an ocean of cinematic choices, leaving users adrift in the quest for their next movie night selection. Navigating this vast sea of options can be daunting and time-consuming, often resulting in decision fatigue and missed opportunities to explore content aligned with one's preferences. My project seeks to address this issue by crafting a sophisticated movie recommendation system capable of leveraging user data and machine learning to deliver personalized movie suggestions. It aims to tackle the challenge of guiding users toward enjoyable movie choices, even for those who are new to the platform or movies with limited ratings."
   ]
  },
  {
   "cell_type": "markdown",
   "metadata": {},
   "source": [
    "    C.MAIN OBJECTIVE\n",
    "To create a movie recommendation system that suggests the top 5 movies to users based on their ratings of other movies."
   ]
  },
  {
   "cell_type": "markdown",
   "metadata": {},
   "source": [
    "    D.SPECIFIC OBJECTIVES"
   ]
  },
  {
   "cell_type": "markdown",
   "metadata": {},
   "source": [
    "# 2.IMPORTING LIBRARIES"
   ]
  },
  {
   "cell_type": "code",
   "execution_count": 23,
   "metadata": {},
   "outputs": [],
   "source": [
    "import matplotlib.pyplot as plt\n",
    "import numpy as np\n",
    "import pandas as pd\n",
    "import seaborn as sns"
   ]
  },
  {
   "cell_type": "markdown",
   "metadata": {},
   "source": [
    "# 3.LOADING THE DATA"
   ]
  },
  {
   "cell_type": "code",
   "execution_count": 24,
   "metadata": {},
   "outputs": [
    {
     "data": {
      "text/html": [
       "<div>\n",
       "<style scoped>\n",
       "    .dataframe tbody tr th:only-of-type {\n",
       "        vertical-align: middle;\n",
       "    }\n",
       "\n",
       "    .dataframe tbody tr th {\n",
       "        vertical-align: top;\n",
       "    }\n",
       "\n",
       "    .dataframe thead th {\n",
       "        text-align: right;\n",
       "    }\n",
       "</style>\n",
       "<table border=\"1\" class=\"dataframe\">\n",
       "  <thead>\n",
       "    <tr style=\"text-align: right;\">\n",
       "      <th></th>\n",
       "      <th>movieId</th>\n",
       "      <th>title</th>\n",
       "      <th>genres</th>\n",
       "    </tr>\n",
       "  </thead>\n",
       "  <tbody>\n",
       "    <tr>\n",
       "      <th>0</th>\n",
       "      <td>1</td>\n",
       "      <td>Toy Story (1995)</td>\n",
       "      <td>Adventure|Animation|Children|Comedy|Fantasy</td>\n",
       "    </tr>\n",
       "    <tr>\n",
       "      <th>1</th>\n",
       "      <td>2</td>\n",
       "      <td>Jumanji (1995)</td>\n",
       "      <td>Adventure|Children|Fantasy</td>\n",
       "    </tr>\n",
       "    <tr>\n",
       "      <th>2</th>\n",
       "      <td>3</td>\n",
       "      <td>Grumpier Old Men (1995)</td>\n",
       "      <td>Comedy|Romance</td>\n",
       "    </tr>\n",
       "    <tr>\n",
       "      <th>3</th>\n",
       "      <td>4</td>\n",
       "      <td>Waiting to Exhale (1995)</td>\n",
       "      <td>Comedy|Drama|Romance</td>\n",
       "    </tr>\n",
       "    <tr>\n",
       "      <th>4</th>\n",
       "      <td>5</td>\n",
       "      <td>Father of the Bride Part II (1995)</td>\n",
       "      <td>Comedy</td>\n",
       "    </tr>\n",
       "  </tbody>\n",
       "</table>\n",
       "</div>"
      ],
      "text/plain": [
       "   movieId                               title   \n",
       "0        1                    Toy Story (1995)  \\\n",
       "1        2                      Jumanji (1995)   \n",
       "2        3             Grumpier Old Men (1995)   \n",
       "3        4            Waiting to Exhale (1995)   \n",
       "4        5  Father of the Bride Part II (1995)   \n",
       "\n",
       "                                        genres  \n",
       "0  Adventure|Animation|Children|Comedy|Fantasy  \n",
       "1                   Adventure|Children|Fantasy  \n",
       "2                               Comedy|Romance  \n",
       "3                         Comedy|Drama|Romance  \n",
       "4                                       Comedy  "
      ]
     },
     "execution_count": 24,
     "metadata": {},
     "output_type": "execute_result"
    }
   ],
   "source": [
    "#loading data on movies.csv\n",
    "movie_data = pd.read_csv('Datasets/movies.csv')\n",
    "movie_data.head()"
   ]
  },
  {
   "cell_type": "code",
   "execution_count": 25,
   "metadata": {},
   "outputs": [
    {
     "data": {
      "text/html": [
       "<div>\n",
       "<style scoped>\n",
       "    .dataframe tbody tr th:only-of-type {\n",
       "        vertical-align: middle;\n",
       "    }\n",
       "\n",
       "    .dataframe tbody tr th {\n",
       "        vertical-align: top;\n",
       "    }\n",
       "\n",
       "    .dataframe thead th {\n",
       "        text-align: right;\n",
       "    }\n",
       "</style>\n",
       "<table border=\"1\" class=\"dataframe\">\n",
       "  <thead>\n",
       "    <tr style=\"text-align: right;\">\n",
       "      <th></th>\n",
       "      <th>userId</th>\n",
       "      <th>movieId</th>\n",
       "      <th>rating</th>\n",
       "      <th>timestamp</th>\n",
       "    </tr>\n",
       "  </thead>\n",
       "  <tbody>\n",
       "    <tr>\n",
       "      <th>0</th>\n",
       "      <td>1</td>\n",
       "      <td>1</td>\n",
       "      <td>4.0</td>\n",
       "      <td>964982703</td>\n",
       "    </tr>\n",
       "    <tr>\n",
       "      <th>1</th>\n",
       "      <td>1</td>\n",
       "      <td>3</td>\n",
       "      <td>4.0</td>\n",
       "      <td>964981247</td>\n",
       "    </tr>\n",
       "    <tr>\n",
       "      <th>2</th>\n",
       "      <td>1</td>\n",
       "      <td>6</td>\n",
       "      <td>4.0</td>\n",
       "      <td>964982224</td>\n",
       "    </tr>\n",
       "    <tr>\n",
       "      <th>3</th>\n",
       "      <td>1</td>\n",
       "      <td>47</td>\n",
       "      <td>5.0</td>\n",
       "      <td>964983815</td>\n",
       "    </tr>\n",
       "    <tr>\n",
       "      <th>4</th>\n",
       "      <td>1</td>\n",
       "      <td>50</td>\n",
       "      <td>5.0</td>\n",
       "      <td>964982931</td>\n",
       "    </tr>\n",
       "  </tbody>\n",
       "</table>\n",
       "</div>"
      ],
      "text/plain": [
       "   userId  movieId  rating  timestamp\n",
       "0       1        1     4.0  964982703\n",
       "1       1        3     4.0  964981247\n",
       "2       1        6     4.0  964982224\n",
       "3       1       47     5.0  964983815\n",
       "4       1       50     5.0  964982931"
      ]
     },
     "execution_count": 25,
     "metadata": {},
     "output_type": "execute_result"
    }
   ],
   "source": [
    "#loading data on ratings.csv\n",
    "rating_data = pd.read_csv('Datasets/ratings.csv')\n",
    "rating_data.head()"
   ]
  },
  {
   "cell_type": "markdown",
   "metadata": {},
   "source": [
    "# 4.DATA CLEANING\n"
   ]
  },
  {
   "cell_type": "code",
   "execution_count": 26,
   "metadata": {},
   "outputs": [
    {
     "name": "stdout",
     "output_type": "stream",
     "text": [
      "<class 'pandas.core.frame.DataFrame'>\n",
      "RangeIndex: 9742 entries, 0 to 9741\n",
      "Data columns (total 3 columns):\n",
      " #   Column   Non-Null Count  Dtype \n",
      "---  ------   --------------  ----- \n",
      " 0   movieId  9742 non-null   int64 \n",
      " 1   title    9742 non-null   object\n",
      " 2   genres   9742 non-null   object\n",
      "dtypes: int64(1), object(2)\n",
      "memory usage: 228.5+ KB\n"
     ]
    }
   ],
   "source": [
    "movie_data.info()"
   ]
  },
  {
   "cell_type": "code",
   "execution_count": 27,
   "metadata": {},
   "outputs": [
    {
     "name": "stdout",
     "output_type": "stream",
     "text": [
      "<class 'pandas.core.frame.DataFrame'>\n",
      "RangeIndex: 100836 entries, 0 to 100835\n",
      "Data columns (total 4 columns):\n",
      " #   Column     Non-Null Count   Dtype  \n",
      "---  ------     --------------   -----  \n",
      " 0   userId     100836 non-null  int64  \n",
      " 1   movieId    100836 non-null  int64  \n",
      " 2   rating     100836 non-null  float64\n",
      " 3   timestamp  100836 non-null  int64  \n",
      "dtypes: float64(1), int64(3)\n",
      "memory usage: 3.1 MB\n"
     ]
    }
   ],
   "source": [
    "rating_data.info()"
   ]
  },
  {
   "cell_type": "markdown",
   "metadata": {},
   "source": [
    "From the above, the datasets do not contain any missing values."
   ]
  },
  {
   "cell_type": "markdown",
   "metadata": {},
   "source": [
    "### 4.1. DROPPING COLUMNS"
   ]
  },
  {
   "cell_type": "markdown",
   "metadata": {},
   "source": [
    "Only a few features and rows from the various datasets that were gathered are important to the procedure. As a result, in this stage, the features from each dataset that were not necessary were removed. "
   ]
  },
  {
   "cell_type": "code",
   "execution_count": 28,
   "metadata": {},
   "outputs": [
    {
     "data": {
      "text/html": [
       "<div>\n",
       "<style scoped>\n",
       "    .dataframe tbody tr th:only-of-type {\n",
       "        vertical-align: middle;\n",
       "    }\n",
       "\n",
       "    .dataframe tbody tr th {\n",
       "        vertical-align: top;\n",
       "    }\n",
       "\n",
       "    .dataframe thead th {\n",
       "        text-align: right;\n",
       "    }\n",
       "</style>\n",
       "<table border=\"1\" class=\"dataframe\">\n",
       "  <thead>\n",
       "    <tr style=\"text-align: right;\">\n",
       "      <th></th>\n",
       "      <th>movieId</th>\n",
       "      <th>title</th>\n",
       "    </tr>\n",
       "  </thead>\n",
       "  <tbody>\n",
       "    <tr>\n",
       "      <th>0</th>\n",
       "      <td>1</td>\n",
       "      <td>Toy Story (1995)</td>\n",
       "    </tr>\n",
       "    <tr>\n",
       "      <th>1</th>\n",
       "      <td>2</td>\n",
       "      <td>Jumanji (1995)</td>\n",
       "    </tr>\n",
       "    <tr>\n",
       "      <th>2</th>\n",
       "      <td>3</td>\n",
       "      <td>Grumpier Old Men (1995)</td>\n",
       "    </tr>\n",
       "    <tr>\n",
       "      <th>3</th>\n",
       "      <td>4</td>\n",
       "      <td>Waiting to Exhale (1995)</td>\n",
       "    </tr>\n",
       "    <tr>\n",
       "      <th>4</th>\n",
       "      <td>5</td>\n",
       "      <td>Father of the Bride Part II (1995)</td>\n",
       "    </tr>\n",
       "  </tbody>\n",
       "</table>\n",
       "</div>"
      ],
      "text/plain": [
       "   movieId                               title\n",
       "0        1                    Toy Story (1995)\n",
       "1        2                      Jumanji (1995)\n",
       "2        3             Grumpier Old Men (1995)\n",
       "3        4            Waiting to Exhale (1995)\n",
       "4        5  Father of the Bride Part II (1995)"
      ]
     },
     "execution_count": 28,
     "metadata": {},
     "output_type": "execute_result"
    }
   ],
   "source": [
    "#drop unnecessary columns \n",
    "movie_data = movie_data.drop(columns=['genres'])\n",
    "movie_data.head()"
   ]
  },
  {
   "cell_type": "code",
   "execution_count": 29,
   "metadata": {},
   "outputs": [
    {
     "data": {
      "text/html": [
       "<div>\n",
       "<style scoped>\n",
       "    .dataframe tbody tr th:only-of-type {\n",
       "        vertical-align: middle;\n",
       "    }\n",
       "\n",
       "    .dataframe tbody tr th {\n",
       "        vertical-align: top;\n",
       "    }\n",
       "\n",
       "    .dataframe thead th {\n",
       "        text-align: right;\n",
       "    }\n",
       "</style>\n",
       "<table border=\"1\" class=\"dataframe\">\n",
       "  <thead>\n",
       "    <tr style=\"text-align: right;\">\n",
       "      <th></th>\n",
       "      <th>userId</th>\n",
       "      <th>movieId</th>\n",
       "      <th>rating</th>\n",
       "    </tr>\n",
       "  </thead>\n",
       "  <tbody>\n",
       "    <tr>\n",
       "      <th>0</th>\n",
       "      <td>1</td>\n",
       "      <td>1</td>\n",
       "      <td>4.0</td>\n",
       "    </tr>\n",
       "    <tr>\n",
       "      <th>1</th>\n",
       "      <td>1</td>\n",
       "      <td>3</td>\n",
       "      <td>4.0</td>\n",
       "    </tr>\n",
       "    <tr>\n",
       "      <th>2</th>\n",
       "      <td>1</td>\n",
       "      <td>6</td>\n",
       "      <td>4.0</td>\n",
       "    </tr>\n",
       "    <tr>\n",
       "      <th>3</th>\n",
       "      <td>1</td>\n",
       "      <td>47</td>\n",
       "      <td>5.0</td>\n",
       "    </tr>\n",
       "    <tr>\n",
       "      <th>4</th>\n",
       "      <td>1</td>\n",
       "      <td>50</td>\n",
       "      <td>5.0</td>\n",
       "    </tr>\n",
       "  </tbody>\n",
       "</table>\n",
       "</div>"
      ],
      "text/plain": [
       "   userId  movieId  rating\n",
       "0       1        1     4.0\n",
       "1       1        3     4.0\n",
       "2       1        6     4.0\n",
       "3       1       47     5.0\n",
       "4       1       50     5.0"
      ]
     },
     "execution_count": 29,
     "metadata": {},
     "output_type": "execute_result"
    }
   ],
   "source": [
    "rating_data = rating_data.drop(columns=['timestamp'])\n",
    "rating_data.head()"
   ]
  },
  {
   "cell_type": "markdown",
   "metadata": {},
   "source": [
    "# 5.EXPLORATORY DATA ANALYSIS\n",
    "###     5.1.MERGE THE DATASETS"
   ]
  },
  {
   "cell_type": "code",
   "execution_count": 32,
   "metadata": {},
   "outputs": [
    {
     "data": {
      "text/html": [
       "<div>\n",
       "<style scoped>\n",
       "    .dataframe tbody tr th:only-of-type {\n",
       "        vertical-align: middle;\n",
       "    }\n",
       "\n",
       "    .dataframe tbody tr th {\n",
       "        vertical-align: top;\n",
       "    }\n",
       "\n",
       "    .dataframe thead th {\n",
       "        text-align: right;\n",
       "    }\n",
       "</style>\n",
       "<table border=\"1\" class=\"dataframe\">\n",
       "  <thead>\n",
       "    <tr style=\"text-align: right;\">\n",
       "      <th></th>\n",
       "      <th>userId</th>\n",
       "      <th>movieId</th>\n",
       "      <th>rating</th>\n",
       "      <th>title</th>\n",
       "    </tr>\n",
       "  </thead>\n",
       "  <tbody>\n",
       "    <tr>\n",
       "      <th>0</th>\n",
       "      <td>1</td>\n",
       "      <td>1</td>\n",
       "      <td>4.0</td>\n",
       "      <td>Toy Story (1995)</td>\n",
       "    </tr>\n",
       "    <tr>\n",
       "      <th>1</th>\n",
       "      <td>5</td>\n",
       "      <td>1</td>\n",
       "      <td>4.0</td>\n",
       "      <td>Toy Story (1995)</td>\n",
       "    </tr>\n",
       "    <tr>\n",
       "      <th>2</th>\n",
       "      <td>7</td>\n",
       "      <td>1</td>\n",
       "      <td>4.5</td>\n",
       "      <td>Toy Story (1995)</td>\n",
       "    </tr>\n",
       "    <tr>\n",
       "      <th>3</th>\n",
       "      <td>15</td>\n",
       "      <td>1</td>\n",
       "      <td>2.5</td>\n",
       "      <td>Toy Story (1995)</td>\n",
       "    </tr>\n",
       "    <tr>\n",
       "      <th>4</th>\n",
       "      <td>17</td>\n",
       "      <td>1</td>\n",
       "      <td>4.5</td>\n",
       "      <td>Toy Story (1995)</td>\n",
       "    </tr>\n",
       "    <tr>\n",
       "      <th>...</th>\n",
       "      <td>...</td>\n",
       "      <td>...</td>\n",
       "      <td>...</td>\n",
       "      <td>...</td>\n",
       "    </tr>\n",
       "    <tr>\n",
       "      <th>100831</th>\n",
       "      <td>610</td>\n",
       "      <td>160341</td>\n",
       "      <td>2.5</td>\n",
       "      <td>Bloodmoon (1997)</td>\n",
       "    </tr>\n",
       "    <tr>\n",
       "      <th>100832</th>\n",
       "      <td>610</td>\n",
       "      <td>160527</td>\n",
       "      <td>4.5</td>\n",
       "      <td>Sympathy for the Underdog (1971)</td>\n",
       "    </tr>\n",
       "    <tr>\n",
       "      <th>100833</th>\n",
       "      <td>610</td>\n",
       "      <td>160836</td>\n",
       "      <td>3.0</td>\n",
       "      <td>Hazard (2005)</td>\n",
       "    </tr>\n",
       "    <tr>\n",
       "      <th>100834</th>\n",
       "      <td>610</td>\n",
       "      <td>163937</td>\n",
       "      <td>3.5</td>\n",
       "      <td>Blair Witch (2016)</td>\n",
       "    </tr>\n",
       "    <tr>\n",
       "      <th>100835</th>\n",
       "      <td>610</td>\n",
       "      <td>163981</td>\n",
       "      <td>3.5</td>\n",
       "      <td>31 (2016)</td>\n",
       "    </tr>\n",
       "  </tbody>\n",
       "</table>\n",
       "<p>100836 rows × 4 columns</p>\n",
       "</div>"
      ],
      "text/plain": [
       "        userId  movieId  rating                             title\n",
       "0            1        1     4.0                  Toy Story (1995)\n",
       "1            5        1     4.0                  Toy Story (1995)\n",
       "2            7        1     4.5                  Toy Story (1995)\n",
       "3           15        1     2.5                  Toy Story (1995)\n",
       "4           17        1     4.5                  Toy Story (1995)\n",
       "...        ...      ...     ...                               ...\n",
       "100831     610   160341     2.5                  Bloodmoon (1997)\n",
       "100832     610   160527     4.5  Sympathy for the Underdog (1971)\n",
       "100833     610   160836     3.0                     Hazard (2005)\n",
       "100834     610   163937     3.5                Blair Witch (2016)\n",
       "100835     610   163981     3.5                         31 (2016)\n",
       "\n",
       "[100836 rows x 4 columns]"
      ]
     },
     "execution_count": 32,
     "metadata": {},
     "output_type": "execute_result"
    }
   ],
   "source": [
    "# Merge the ratings dataset with the movies dataset based on 'movieId'\n",
    "merged_data = pd.merge(rating_data, movie_data, on='movieId')\n",
    "merged_data"
   ]
  },
  {
   "cell_type": "markdown",
   "metadata": {},
   "source": [
    "###     5.2.CREATE USER-ITEM RATING MATRIX\n",
    "After merging,  I created the user-item rating matrix. This matrix will have users as rows, movies as columns, and user ratings as values.The resulting user_item_matrix will be the basis for collaborative filtering, enabling me to make recommendations based on user-item interactions."
   ]
  },
  {
   "cell_type": "code",
   "execution_count": 36,
   "metadata": {},
   "outputs": [
    {
     "name": "stdout",
     "output_type": "stream",
     "text": [
      "movieId  1       2       3       4       5       6       7       8        \n",
      "userId                                                                    \n",
      "1           4.0     NaN     4.0     NaN     NaN     4.0     NaN     NaN  \\\n",
      "2           NaN     NaN     NaN     NaN     NaN     NaN     NaN     NaN   \n",
      "3           NaN     NaN     NaN     NaN     NaN     NaN     NaN     NaN   \n",
      "4           NaN     NaN     NaN     NaN     NaN     NaN     NaN     NaN   \n",
      "5           4.0     NaN     NaN     NaN     NaN     NaN     NaN     NaN   \n",
      "...         ...     ...     ...     ...     ...     ...     ...     ...   \n",
      "606         2.5     NaN     NaN     NaN     NaN     NaN     2.5     NaN   \n",
      "607         4.0     NaN     NaN     NaN     NaN     NaN     NaN     NaN   \n",
      "608         2.5     2.0     2.0     NaN     NaN     NaN     NaN     NaN   \n",
      "609         3.0     NaN     NaN     NaN     NaN     NaN     NaN     NaN   \n",
      "610         5.0     NaN     NaN     NaN     NaN     5.0     NaN     NaN   \n",
      "\n",
      "movieId  9       10      ...  193565  193567  193571  193573  193579  193581   \n",
      "userId                   ...                                                   \n",
      "1           NaN     NaN  ...     NaN     NaN     NaN     NaN     NaN     NaN  \\\n",
      "2           NaN     NaN  ...     NaN     NaN     NaN     NaN     NaN     NaN   \n",
      "3           NaN     NaN  ...     NaN     NaN     NaN     NaN     NaN     NaN   \n",
      "4           NaN     NaN  ...     NaN     NaN     NaN     NaN     NaN     NaN   \n",
      "5           NaN     NaN  ...     NaN     NaN     NaN     NaN     NaN     NaN   \n",
      "...         ...     ...  ...     ...     ...     ...     ...     ...     ...   \n",
      "606         NaN     NaN  ...     NaN     NaN     NaN     NaN     NaN     NaN   \n",
      "607         NaN     NaN  ...     NaN     NaN     NaN     NaN     NaN     NaN   \n",
      "608         NaN     4.0  ...     NaN     NaN     NaN     NaN     NaN     NaN   \n",
      "609         NaN     4.0  ...     NaN     NaN     NaN     NaN     NaN     NaN   \n",
      "610         NaN     NaN  ...     NaN     NaN     NaN     NaN     NaN     NaN   \n",
      "\n",
      "movieId  193583  193585  193587  193609  \n",
      "userId                                   \n",
      "1           NaN     NaN     NaN     NaN  \n",
      "2           NaN     NaN     NaN     NaN  \n",
      "3           NaN     NaN     NaN     NaN  \n",
      "4           NaN     NaN     NaN     NaN  \n",
      "5           NaN     NaN     NaN     NaN  \n",
      "...         ...     ...     ...     ...  \n",
      "606         NaN     NaN     NaN     NaN  \n",
      "607         NaN     NaN     NaN     NaN  \n",
      "608         NaN     NaN     NaN     NaN  \n",
      "609         NaN     NaN     NaN     NaN  \n",
      "610         NaN     NaN     NaN     NaN  \n",
      "\n",
      "[610 rows x 9724 columns]\n"
     ]
    }
   ],
   "source": [
    "user_item_matrix = merged_data.pivot_table(index='userId', columns='movieId', values='rating')\n",
    "print(user_item_matrix)\n"
   ]
  },
  {
   "cell_type": "code",
   "execution_count": 37,
   "metadata": {},
   "outputs": [
    {
     "name": "stdout",
     "output_type": "stream",
     "text": [
      "movieId  1       2       3       4       5       6       7       8        \n",
      "userId                                                                    \n",
      "1           4.0     0.0     4.0     0.0     0.0     4.0     0.0     0.0  \\\n",
      "2           0.0     0.0     0.0     0.0     0.0     0.0     0.0     0.0   \n",
      "3           0.0     0.0     0.0     0.0     0.0     0.0     0.0     0.0   \n",
      "4           0.0     0.0     0.0     0.0     0.0     0.0     0.0     0.0   \n",
      "5           4.0     0.0     0.0     0.0     0.0     0.0     0.0     0.0   \n",
      "...         ...     ...     ...     ...     ...     ...     ...     ...   \n",
      "606         2.5     0.0     0.0     0.0     0.0     0.0     2.5     0.0   \n",
      "607         4.0     0.0     0.0     0.0     0.0     0.0     0.0     0.0   \n",
      "608         2.5     2.0     2.0     0.0     0.0     0.0     0.0     0.0   \n",
      "609         3.0     0.0     0.0     0.0     0.0     0.0     0.0     0.0   \n",
      "610         5.0     0.0     0.0     0.0     0.0     5.0     0.0     0.0   \n",
      "\n",
      "movieId  9       10      ...  193565  193567  193571  193573  193579  193581   \n",
      "userId                   ...                                                   \n",
      "1           0.0     0.0  ...     0.0     0.0     0.0     0.0     0.0     0.0  \\\n",
      "2           0.0     0.0  ...     0.0     0.0     0.0     0.0     0.0     0.0   \n",
      "3           0.0     0.0  ...     0.0     0.0     0.0     0.0     0.0     0.0   \n",
      "4           0.0     0.0  ...     0.0     0.0     0.0     0.0     0.0     0.0   \n",
      "5           0.0     0.0  ...     0.0     0.0     0.0     0.0     0.0     0.0   \n",
      "...         ...     ...  ...     ...     ...     ...     ...     ...     ...   \n",
      "606         0.0     0.0  ...     0.0     0.0     0.0     0.0     0.0     0.0   \n",
      "607         0.0     0.0  ...     0.0     0.0     0.0     0.0     0.0     0.0   \n",
      "608         0.0     4.0  ...     0.0     0.0     0.0     0.0     0.0     0.0   \n",
      "609         0.0     4.0  ...     0.0     0.0     0.0     0.0     0.0     0.0   \n",
      "610         0.0     0.0  ...     0.0     0.0     0.0     0.0     0.0     0.0   \n",
      "\n",
      "movieId  193583  193585  193587  193609  \n",
      "userId                                   \n",
      "1           0.0     0.0     0.0     0.0  \n",
      "2           0.0     0.0     0.0     0.0  \n",
      "3           0.0     0.0     0.0     0.0  \n",
      "4           0.0     0.0     0.0     0.0  \n",
      "5           0.0     0.0     0.0     0.0  \n",
      "...         ...     ...     ...     ...  \n",
      "606         0.0     0.0     0.0     0.0  \n",
      "607         0.0     0.0     0.0     0.0  \n",
      "608         0.0     0.0     0.0     0.0  \n",
      "609         0.0     0.0     0.0     0.0  \n",
      "610         0.0     0.0     0.0     0.0  \n",
      "\n",
      "[610 rows x 9724 columns]\n"
     ]
    }
   ],
   "source": [
    "#handle missing values \n",
    "user_item_matrix = user_item_matrix.fillna(0)\n",
    "print(user_item_matrix)"
   ]
  },
  {
   "cell_type": "code",
   "execution_count": null,
   "metadata": {},
   "outputs": [],
   "source": []
  },
  {
   "cell_type": "code",
   "execution_count": 39,
   "metadata": {},
   "outputs": [
    {
     "name": "stdout",
     "output_type": "stream",
     "text": [
      "[(104, 1.6396084488861018), (150, 1.6396084488861018), (165, 1.6396084488861018), (364, 1.6396084488861018), (474, 1.6396084488861018), (588, 1.6396084488861018), (589, 1.6396084488861018), (595, 1.6396084488861018), (858, 1.6396084488861018), (1035, 1.6396084488861018)]\n"
     ]
    }
   ],
   "source": [
    "#import pandas as pd\n",
    "from sklearn.metrics.pairwise import cosine_similarity\n",
    "\n",
    "# Load your user-item rating matrix (already filled with zeros for missing values)\n",
    "# user_item_matrix = ...\n",
    "\n",
    "# Calculate user-user similarity using cosine similarity\n",
    "user_similarity = cosine_similarity(user_item_matrix)\n",
    "\n",
    "# Convert the similarity matrix into a DataFrame for easier manipulation\n",
    "user_similarity_df = pd.DataFrame(user_similarity, index=user_item_matrix.index, columns=user_item_matrix.index)\n",
    "\n",
    "# Specify the target user for whom you want to generate recommendations\n",
    "target_user_id = 1  # Replace with the actual user ID\n",
    "\n",
    "# Set parameters for recommendation\n",
    "N = 10  # Number of recommendations to generate\n",
    "min_similarity_threshold = 0.2  # Minimum similarity score for considering a user as similar\n",
    "\n",
    "# Get the similarity scores between the target user and all other users\n",
    "similarities_to_target_user = user_similarity_df.loc[target_user_id]\n",
    "\n",
    "# Filter out the target user (similarity with itself)\n",
    "similarities_to_target_user = similarities_to_target_user.drop(target_user_id)\n",
    "\n",
    "# Find the users who are most similar to the target user (top N users)\n",
    "top_similar_users = similarities_to_target_user[similarities_to_target_user > min_similarity_threshold].nlargest(N)\n",
    "\n",
    "# Get the movies that the target user has already rated\n",
    "movies_rated_by_target_user = user_item_matrix.loc[target_user_id]\n",
    "rated_movie_ids = movies_rated_by_target_user[movies_rated_by_target_user > 0].index\n",
    "\n",
    "# Initialize a dictionary to store movie recommendations and their scores\n",
    "movie_recommendations = {}\n",
    "\n",
    "# Iterate over the top similar users\n",
    "for similar_user_id, similarity_score in top_similar_users.items():\n",
    "    # Get the movies that the similar user has rated\n",
    "    similar_user_rated_movies = user_item_matrix.loc[similar_user_id]\n",
    "    \n",
    "    # Filter out movies that the target user has already rated\n",
    "    similar_user_unrated_movies = similar_user_rated_movies.drop(rated_movie_ids)\n",
    "    \n",
    "    # Calculate the weighted average of ratings from the similar user, weighted by similarity\n",
    "    weighted_ratings = similar_user_unrated_movies * similarity_score\n",
    "    \n",
    "    # Add the weighted ratings to the movie recommendations dictionary\n",
    "    movie_recommendations.update(weighted_ratings.to_dict())\n",
    "\n",
    "# Sort the movie recommendations by their weighted ratings in descending order\n",
    "sorted_recommendations = sorted(movie_recommendations.items(), key=lambda x: x[1], reverse=True)\n",
    "\n",
    "# Get the top N movie recommendations\n",
    "top_movie_recommendations = sorted_recommendations[:N]\n",
    "\n",
    "# Print or return the top movie recommendations\n",
    "print(top_movie_recommendations)\n"
   ]
  }
 ],
 "metadata": {
  "kernelspec": {
   "display_name": "learn-env",
   "language": "python",
   "name": "python3"
  },
  "language_info": {
   "codemirror_mode": {
    "name": "ipython",
    "version": 3
   },
   "file_extension": ".py",
   "mimetype": "text/x-python",
   "name": "python",
   "nbconvert_exporter": "python",
   "pygments_lexer": "ipython3",
   "version": "3.10.11"
  },
  "orig_nbformat": 4
 },
 "nbformat": 4,
 "nbformat_minor": 2
}
